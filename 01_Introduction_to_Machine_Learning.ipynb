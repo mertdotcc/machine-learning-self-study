{
 "cells": [
  {
   "cell_type": "markdown",
   "metadata": {},
   "source": [
    "# Introduction to Machine Learning"
   ]
  },
  {
   "cell_type": "markdown",
   "metadata": {},
   "source": [
    "Following the book __Introduction to Statistical Learning__ by __Gareth James__."
   ]
  },
  {
   "cell_type": "markdown",
   "metadata": {},
   "source": [
    "- Machine learning is a method of data analysis that automates analytical model building.\n",
    "- Using algorithms that iteratively learn from data, machine learning allows computers to find hidden insights without being explicitly programmed where to look.\n",
    "- What is machine learning used for?\n",
    "    - Fraud detection\n",
    "    - Web search results\n",
    "    - Real-time ads on web pages\n",
    "    - Credit scoring and next-best offers\n",
    "    - Prediction of equipment failures\n",
    "    - New pricing models\n",
    "    - Network intrusion detection\n",
    "    - Recommendation engines\n",
    "    - Customer segmentation\n",
    "    - Text sentiment analysis\n",
    "    - Predicting customer churn\n",
    "    - Pattern and image recognition\n",
    "    - Email spam filtering\n",
    "    - Financial modeling"
   ]
  },
  {
   "cell_type": "markdown",
   "metadata": {},
   "source": [
    "***"
   ]
  },
  {
   "cell_type": "markdown",
   "metadata": {},
   "source": [
    "![title](images/i1.png)"
   ]
  },
  {
   "cell_type": "markdown",
   "metadata": {},
   "source": [
    "***"
   ]
  },
  {
   "cell_type": "markdown",
   "metadata": {},
   "source": [
    "There are 3 main types of __Machine Learning algorithms__:\n"
   ]
  },
  {
   "cell_type": "markdown",
   "metadata": {},
   "source": [
    "- Supervised Learning\n",
    "- Unsupervised Learning\n",
    "- Reinforcement Learning"
   ]
  },
  {
   "cell_type": "markdown",
   "metadata": {},
   "source": [
    "- Supervised Learning:\n",
    "    * We have labeled data and we are trying to predict a label based off of known features.\n",
    "\n",
    "- Unsupervised Learning:\n",
    "    * We have unlabeled data and we are trying to group together similar data points based off of features.\n",
    "    \n",
    "- Reinforcement Learning:\n",
    "    * Algorithm learns to perform an action from experience"
   ]
  },
  {
   "cell_type": "markdown",
   "metadata": {},
   "source": [
    "***"
   ]
  },
  {
   "cell_type": "markdown",
   "metadata": {},
   "source": [
    "- __Supervised learning__ algorithms are trained using __labeled__ examples, such as an input where the desired output is known.\n",
    "<br><br>\n",
    "- For example, a piece of equipment could have data points labeled either \"F\" (failed) or \"R\" (runs).\n",
    "<br><br>\n",
    "- The learning algorithm receives a set of inputs along with the corresponding correct outputs, and then the algorithm learns by comparing its actual output with correct outputs to find errors.\n",
    "<br><br>\n",
    "- It then modifies the model accordingly.\n",
    "<br><br>\n",
    "- Through methods like classification, regression, prediction and gradient boosting, supervised learning uses patterns to predict the values of the label on additional unlabeled data.\n",
    "<br><br>\n",
    "- Supervised learning is commonly used in applications where historical data predicts future likely events.\n",
    "<br><br>\n",
    "- For example, it can anticipate when credit card transactions are likely to be fraudulent or which insurance customer is likely to file a claim.\n",
    "<br><br>\n",
    "- Or it can attempt to predict the price of a house based on different features for houses for which we have historical price data."
   ]
  },
  {
   "cell_type": "markdown",
   "metadata": {},
   "source": [
    "***"
   ]
  },
  {
   "cell_type": "markdown",
   "metadata": {},
   "source": [
    "- __Unsupervised learning__ is used against data that has no historical labels.\n",
    "<br><br>\n",
    "- The system is not told the 'right answer'. The algorithm must figure out what is being shown.\n",
    "<br><br>\n",
    "- The goal is to explore the data and find some structure within.\n",
    "<br><br>\n",
    "- Or it can find the main attributes that separate customer segments from each other.\n",
    "<br><br>\n",
    "- Popular techniques include self-organizing maps, nearest-neighbor mapping, k-means clustering and singular value decomposition.\n",
    "<br><br>\n",
    "- These algorithms are also used to segment text topics, recommend items and identify data outliers."
   ]
  },
  {
   "cell_type": "markdown",
   "metadata": {},
   "source": [
    "***"
   ]
  },
  {
   "cell_type": "markdown",
   "metadata": {},
   "source": [
    "- __Reinforcement learning__ is often used for robotics, gaming and navigation.\n",
    "<br><br>\n",
    "- With reinforcement learning, the algorithm discovers through trial and error which actions yield the greatest rewards.\n",
    "<br><br>\n",
    "- This type of learning has three primary components: the agent (the learner or the decision maker), the environment (everything the agent interacts with) and actions (what the agent can do).\n",
    "<br><br>\n",
    "- The objective is for the agent to choose actions that maximize the expected reward over a given amount of time.\n",
    "<br><br>\n",
    "- The agent will reach the goal much faster by following a good policy.\n",
    "<br><br>\n",
    "- So the goal in reinforcement learning is to learn the best policy."
   ]
  },
  {
   "cell_type": "markdown",
   "metadata": {},
   "source": [
    "# Machine Learning with Python"
   ]
  },
  {
   "cell_type": "markdown",
   "metadata": {},
   "source": [
    "- I am going to be using the __Scikit Learn__ package.\n",
    "<br><br>\n",
    "- It's the most popular machine learning package for Python and has a lot of algorithms built-in!\n",
    "<br><br>\n",
    "- Note that you might need to install it using:\n",
    "    - __conda install scikit-learn__ (if you have the Anaconda distribution)\n",
    "    <br><br>\n",
    "    or\n",
    "    <br><br>\n",
    "    - __pip install scikit-learn__"
   ]
  },
  {
   "cell_type": "markdown",
   "metadata": {},
   "source": [
    "***"
   ]
  },
  {
   "cell_type": "markdown",
   "metadata": {},
   "source": [
    "Before getting into the ML world and the scikit-learn package, let's go over and review the machine learning process.\n",
    "<br><br>\n",
    "- The machine learning process starts off with our data.\n",
    "<br><br>\n",
    "- Somehow we need to acquire data, and then the next step is to clean the data and to format the data so that the machine learning model can accept it.\n",
    "<br><br>\n",
    "- Before we actually give it to the model however, we are going to split that data into a __test set__ and a __training set__.\n",
    "<br><br>\n",
    "- We train our model on the training set and then in the next step we test our model using the test set and we iterate our model and tune the parameters of the model until its ready to deploy."
   ]
  },
  {
   "cell_type": "markdown",
   "metadata": {},
   "source": [
    "***"
   ]
  },
  {
   "cell_type": "code",
   "execution_count": 1,
   "metadata": {},
   "outputs": [],
   "source": [
    "# Every algorithm is exposed in scikit-learn via an \"Estimator\".\n",
    "\n",
    "# First, we will need to import the model. The general form is:\n",
    "from sklearn.linear_model import LinearRegression"
   ]
  },
  {
   "cell_type": "code",
   "execution_count": 2,
   "metadata": {},
   "outputs": [],
   "source": [
    "# Here the \"LinearRegression\" is the \"Estimator\"."
   ]
  },
  {
   "cell_type": "markdown",
   "metadata": {},
   "source": [
    "__Estimator parameters:__ All the parameters of an estimator can be set when it is instantiated, and have suitable default values."
   ]
  },
  {
   "cell_type": "code",
   "execution_count": 3,
   "metadata": {},
   "outputs": [
    {
     "name": "stdout",
     "output_type": "stream",
     "text": [
      "LinearRegression(copy_X=True, fit_intercept=True, n_jobs=None, normalize=True)\n"
     ]
    }
   ],
   "source": [
    "model = LinearRegression(normalize=True)\n",
    "print(model)"
   ]
  },
  {
   "cell_type": "markdown",
   "metadata": {},
   "source": [
    "Once we have our model created with our parameters, it is time to fit our model on some data!\n",
    "<br><br>\n",
    "Remember that we should split our data into a training set and a test set."
   ]
  },
  {
   "cell_type": "code",
   "execution_count": 4,
   "metadata": {},
   "outputs": [
    {
     "data": {
      "text/plain": [
       "array([[0, 1],\n",
       "       [2, 3],\n",
       "       [4, 5],\n",
       "       [6, 7],\n",
       "       [8, 9]])"
      ]
     },
     "execution_count": 4,
     "metadata": {},
     "output_type": "execute_result"
    }
   ],
   "source": [
    "import numpy as np\n",
    "from sklearn.model_selection import train_test_split\n",
    "x, y = np.arange(10).reshape(5,2), range(5)\n",
    "x"
   ]
  },
  {
   "cell_type": "code",
   "execution_count": 5,
   "metadata": {},
   "outputs": [
    {
     "data": {
      "text/plain": [
       "[0, 1, 2, 3, 4]"
      ]
     },
     "execution_count": 5,
     "metadata": {},
     "output_type": "execute_result"
    }
   ],
   "source": [
    "list(y)"
   ]
  },
  {
   "cell_type": "code",
   "execution_count": 6,
   "metadata": {},
   "outputs": [],
   "source": [
    "x_train, x_test, y_train, y_test = train_test_split(x, y, test_size=0.3)"
   ]
  },
  {
   "cell_type": "code",
   "execution_count": 7,
   "metadata": {},
   "outputs": [
    {
     "data": {
      "text/plain": [
       "array([[8, 9],\n",
       "       [0, 1],\n",
       "       [6, 7]])"
      ]
     },
     "execution_count": 7,
     "metadata": {},
     "output_type": "execute_result"
    }
   ],
   "source": [
    "x_train"
   ]
  },
  {
   "cell_type": "code",
   "execution_count": 8,
   "metadata": {},
   "outputs": [
    {
     "data": {
      "text/plain": [
       "[4, 0, 3]"
      ]
     },
     "execution_count": 8,
     "metadata": {},
     "output_type": "execute_result"
    }
   ],
   "source": [
    "y_train"
   ]
  },
  {
   "cell_type": "code",
   "execution_count": 9,
   "metadata": {},
   "outputs": [
    {
     "data": {
      "text/plain": [
       "array([[2, 3],\n",
       "       [4, 5]])"
      ]
     },
     "execution_count": 9,
     "metadata": {},
     "output_type": "execute_result"
    }
   ],
   "source": [
    "x_test"
   ]
  },
  {
   "cell_type": "code",
   "execution_count": 10,
   "metadata": {},
   "outputs": [
    {
     "data": {
      "text/plain": [
       "[1, 2]"
      ]
     },
     "execution_count": 10,
     "metadata": {},
     "output_type": "execute_result"
    }
   ],
   "source": [
    "y_test"
   ]
  },
  {
   "cell_type": "markdown",
   "metadata": {},
   "source": [
    "Now that we have split the data, we can train/fit our model on the training data.\n",
    "<br><br>\n",
    "This is done through the __model.fit()__ method."
   ]
  },
  {
   "cell_type": "code",
   "execution_count": 11,
   "metadata": {},
   "outputs": [
    {
     "data": {
      "text/plain": [
       "LinearRegression(copy_X=True, fit_intercept=True, n_jobs=None, normalize=True)"
      ]
     },
     "execution_count": 11,
     "metadata": {},
     "output_type": "execute_result"
    }
   ],
   "source": [
    "model.fit(x_train, y_train)"
   ]
  },
  {
   "cell_type": "markdown",
   "metadata": {},
   "source": [
    "Now the model has been fit and trained on the training data.\n",
    "<br><br>\n",
    "The model is ready to predict labels or values on the test set.\n",
    "<br><br>\n",
    "We get predicted values using the __predict()__ method."
   ]
  },
  {
   "cell_type": "code",
   "execution_count": 12,
   "metadata": {},
   "outputs": [],
   "source": [
    "predictions = model.predict(x_test)"
   ]
  },
  {
   "cell_type": "markdown",
   "metadata": {},
   "source": [
    "We can then evaluate our model by comparing our predictions to the correct values.\n",
    "<br><br>\n",
    "The evaluation method depends on what sort of machine learning algorithm we are using (e.g. Regression, Classification, Clustering etc.)"
   ]
  },
  {
   "cell_type": "markdown",
   "metadata": {},
   "source": [
    "***"
   ]
  },
  {
   "cell_type": "markdown",
   "metadata": {},
   "source": [
    "Scikit-learn really strives to have a uniform interface across all methods, and we will see examples of these below.\n",
    "<br><br>\n",
    "Given a scikit-learn __estimator__ object named model, the following methods are available:\n",
    "<br><br>\n",
    "- Available in __all Estimators:__\n",
    "    - __model.fit()__ : fit training data\n",
    "    <br><br>\n",
    "    - For supervised learning applications, this accepts two arguments: the data X and the labels y (e.g. model.fit(X,y)\n",
    "    <br><br>\n",
    "    - For unsupervised learning applications, this accepts only a single argument, the data X (e.g. model.fit(X)\n",
    "    <br><br>\n",
    "- Available in __supervised estimators:__\n",
    "    - __model.predict()__ : given a trained model, predict the label of a new set of data. This method accepts one argument, the new data X_new (e.g. model.predict(x_new)), and returns the learned label for each object in the array.\n",
    "    <br><br>\n",
    "    - __model.predict_proba()__ : for classification problems, some estimators also provide this method, which returns the probability that a new observation has each categorical label. In this case, the label with the highest probability is returned by model.predict()\n",
    "    <br><br>\n",
    "    - __model.score()__ : for classification or regression problems, most estimators implement a score method. Scores are between 0 and 1, with a larger score indicating a better fit.\n",
    "    <br><br>\n",
    "- Available in __unsupervised estimators:__\n",
    "    - __model.predict()__ : predict labels in clustering algorithms.\n",
    "    <br><br>\n",
    "    - __model.transform()__ : given an unsupervised model, transform new data into the new basis. This also accepts one argument X_new, and returns the new representation of the data based on the unsupervised model.\n",
    "    <br><br>\n",
    "    - __model.fit_transform()__ : some estimators implement this method, which more efficiently performs a fit and a transform on the same input data."
   ]
  },
  {
   "cell_type": "markdown",
   "metadata": {},
   "source": [
    "![title](images/ml_map.png)"
   ]
  },
  {
   "cell_type": "markdown",
   "metadata": {},
   "source": [
    "Always refer to the chart above to decide on what estimator to use.\n",
    "https://scikit-learn.org/stable/tutorial/machine_learning_map/index.html"
   ]
  }
 ],
 "metadata": {
  "kernelspec": {
   "display_name": "Python 3",
   "language": "python",
   "name": "python3"
  },
  "language_info": {
   "codemirror_mode": {
    "name": "ipython",
    "version": 3
   },
   "file_extension": ".py",
   "mimetype": "text/x-python",
   "name": "python",
   "nbconvert_exporter": "python",
   "pygments_lexer": "ipython3",
   "version": "3.7.1"
  }
 },
 "nbformat": 4,
 "nbformat_minor": 2
}
