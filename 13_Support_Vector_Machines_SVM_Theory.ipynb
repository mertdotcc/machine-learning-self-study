{
 "cells": [
  {
   "cell_type": "markdown",
   "metadata": {},
   "source": [
    "# Support Vector Machines\n",
    "If you want to mathematics behind this algorithm, refer to __Chapter 9__ of the book __ISLR__ by __James, et al.__\n",
    "\n",
    "Support vector machines (SVMs) are supervised learning models with associated learning algorithms that analyze data and recognize patterns, used for classification and regression analysis.\n",
    "\n",
    "Given a set of training examples, each marked for belonging to one of the two categories, an SVM training algorithm builds a model that assigns new examples into one category or the other, making it a non-probabilistic binary linear classifier.\n",
    "\n",
    "An SVM model is a representation of the examples as points in space, mapped so that the examples of the separate categories are divided by a clear gap that is as wide as possible.\n",
    "\n",
    "New examples are then mapped into that same space and predicted to belong to a category based on which side of the gap they fall on.\n",
    "\n",
    "Imagine the labeled training data below:\n",
    "![title](images/p9.png)\n",
    "\n",
    "Intuitively, we would draw a separating __\"hyperplane\"__ between the classes:\n",
    "![title](images/p10.png)\n",
    "\n",
    "However, we have many options of hyperplanes that separate perfectly:\n",
    "![title](images/p11.png)\n",
    "\n",
    "We would like to choose a hyperplane that maximizes the margin between classes:\n",
    "![title](images/p12.png)\n",
    "\n",
    "The vector points that the margin lines touch are known as __Support Vectors__.\n",
    "![title](images/p13.png)\n",
    "\n",
    "We can expand this idea to non-linearly separable data through the __\"kernel trick\"\"__.\n",
    "![title](images/p14.png)\n",
    "\n",
    "A way to represent this idea is:\n",
    "![title](images/p15.png)"
   ]
  }
 ],
 "metadata": {
  "kernelspec": {
   "display_name": "Python 3",
   "language": "python",
   "name": "python3"
  },
  "language_info": {
   "codemirror_mode": {
    "name": "ipython",
    "version": 3
   },
   "file_extension": ".py",
   "mimetype": "text/x-python",
   "name": "python",
   "nbconvert_exporter": "python",
   "pygments_lexer": "ipython3",
   "version": "3.7.1"
  }
 },
 "nbformat": 4,
 "nbformat_minor": 2
}
