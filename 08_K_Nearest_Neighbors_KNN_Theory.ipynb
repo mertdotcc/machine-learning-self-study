{
 "cells": [
  {
   "cell_type": "markdown",
   "metadata": {},
   "source": [
    "# K Nearest Neighbors\n",
    "\n",
    "Refer to the __Chapter 4__ of the book __ISLR__ by __James, et al.__\n",
    "\n",
    "K Nearest Neighbors is a __classification__ algorithm that operates on a very simple principle. And it is best shown through example.\n",
    "\n",
    "Imagine we had some imaginary data on dogs and horses, with heights and weights. If we plot them out, it looks something like this:\n",
    "![title](images/p1.png)\n",
    "\n",
    "__Training the Algorithm:__<br>\n",
    "1) Store all the Data\n",
    "\n",
    "__Prediction Algorithm:__<br>\n",
    "1) Calculate the distance from x to all point in your data<br>\n",
    "2) Sort the points in your data by __increasing distance__ from x<br>\n",
    "3) Predict the majority label of the `K` closest points\n",
    "\n",
    "Choosing a K will affect what class a new point is assigned to:\n",
    "![title](images/p2.png)\n",
    "\n",
    "In the picture above, let the star be our new data point, and we want to classify it. We want to predict whether this new point belongs to the class A or to the class B. If we choose `K = 3`, then we look at the 3 nearest neighbors to this new point. In this case, we have 2 purple ones and 1 yellow one. So, if K were equal to 3, we would predict that this new data point belongs to the Class B. However, if we say `K = 6`, then we would predict that the new data point belongs to the Class A.\n",
    "\n",
    "Choosing a K will affect what class a new point is assigned to:\n",
    "![title](images/p3.png)\n",
    "So, if we look back on our Horse vs Dog, we can here see the plotted affects of various K values. If we choose `K = 1`, we are actually going to pick up a lot of noise. But if go larger and larger K values, we will notice that we smooth out and create more of a bias in our model:\n",
    "![title](images/p4.png)\n",
    "\n",
    "__Pros:__<br>\n",
    "* Very simple\n",
    "* Training is trivial\n",
    "* Works with any number of classes\n",
    "* Easy to add more data\n",
    "* Few parameters:\n",
    "    * K\n",
    "    * Distance Metric\n",
    "    \n",
    "__Cons:__<br>\n",
    "* High Prediction Cost (worse for large data sets)\n",
    "* Not good with high dimensional data\n",
    "* Categorical features don't work well\n",
    "\n",
    "End."
   ]
  }
 ],
 "metadata": {
  "kernelspec": {
   "display_name": "Python 3",
   "language": "python",
   "name": "python3"
  },
  "language_info": {
   "codemirror_mode": {
    "name": "ipython",
    "version": 3
   },
   "file_extension": ".py",
   "mimetype": "text/x-python",
   "name": "python",
   "nbconvert_exporter": "python",
   "pygments_lexer": "ipython3",
   "version": "3.7.1"
  }
 },
 "nbformat": 4,
 "nbformat_minor": 2
}
