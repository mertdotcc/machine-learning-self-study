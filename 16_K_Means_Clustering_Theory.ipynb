{
 "cells": [
  {
   "cell_type": "markdown",
   "metadata": {},
   "source": [
    "# K Means Clustering\n",
    "\n",
    "For more in-depth theory, refer to the __Chapter 10__ of the book __ISLR__ by __James, et al.__\n",
    "\n",
    "K Means Clustering is an unsupervised learning algorithm that will attempt to group similar clusters together in our data.\n",
    "\n",
    "A typical clustering problem looks like:\n",
    "* Clustering Similar Documents\n",
    "* Clustering Customers based on Features\n",
    "* Market Segmentation\n",
    "* Identifiying Similar Physical Groups\n",
    "\n",
    "The overall goal is to divide data into distinct groups such that observations within each group are similar:\n",
    "![title](images/p16.png)\n",
    "***\n",
    "__The K Means Algorithm:__\n",
    "* Choose a number of clusters `K`\n",
    "* Randomly assign each point to a cluster\n",
    "* Until clusters stop changing, repeat the following:\n",
    "    * For each cluster, compute the centroid by taking the mean vector of points in the cluster\n",
    "    * Assign each data point to the cluster for which the centroid is the closest<br>\n",
    "![title](images/p17.png)\n",
    "\n",
    "***\n",
    "__Choosing a `K` Value__\n",
    "![title](images/p18.png)\n",
    "<br>\n",
    "* There is no easy answer for choosing a __best__ `K` value\n",
    "* One way is the __elbow method__\n",
    "\n",
    "First, we compute the sum of squared errors (SSE) for some values of `K` (2, 4, 6, 8, etc.)\n",
    "\n",
    "The SSE is defined as the sum of the squared distance between each member of the cluster and its centroid.\n",
    "\n",
    "If we plot `K` against the SSE, we will see that the __error increases as `K` gets larger__. This is because when the number of clusters increases, they should be smaller, so distortion is also smaller.\n",
    "\n",
    "The idea of the elbow method is to choose the `K` at which the SSE decreases abruptly.\n",
    "\n",
    "This produces an __elbow effect__ in the graph as it can be seen in the following picture:\n",
    "![title](images/p19.png)"
   ]
  }
 ],
 "metadata": {
  "kernelspec": {
   "display_name": "Python 3",
   "language": "python",
   "name": "python3"
  },
  "language_info": {
   "codemirror_mode": {
    "name": "ipython",
    "version": 3
   },
   "file_extension": ".py",
   "mimetype": "text/x-python",
   "name": "python",
   "nbconvert_exporter": "python",
   "pygments_lexer": "ipython3",
   "version": "3.7.1"
  }
 },
 "nbformat": 4,
 "nbformat_minor": 2
}
